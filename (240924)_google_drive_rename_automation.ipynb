{
  "nbformat": 4,
  "nbformat_minor": 0,
  "metadata": {
    "colab": {
      "provenance": []
    },
    "kernelspec": {
      "name": "python3",
      "display_name": "Python 3"
    },
    "language_info": {
      "name": "python"
    }
  },
  "cells": [
    {
      "cell_type": "code",
      "execution_count": null,
      "metadata": {
        "id": "aucwTAe39-UQ"
      },
      "outputs": [],
      "source": [
        "from google.colab import drive\n",
        "drive.mount(\"/content/drive\")\n",
        "target_dir=\"sample/\"\n",
        "%cd drive/My\\ Drive/target_dir\n",
        "!pwd\n"
      ]
    },
    {
      "cell_type": "code",
      "source": [
        "import os\n",
        "\n",
        "test_path=os.getcwd()\n",
        "print(test_path)"
      ],
      "metadata": {
        "id": "a8D1MFIN-Omz"
      },
      "execution_count": null,
      "outputs": []
    },
    {
      "cell_type": "code",
      "source": [
        "directory_list=os.listdir(test_path)\n",
        "print(directory_list)"
      ],
      "metadata": {
        "id": "r3Fme1Qx_AB8"
      },
      "execution_count": null,
      "outputs": []
    },
    {
      "cell_type": "code",
      "source": [
        "i=1\n",
        "for directory in directory_list:\n",
        "  each_path=os.path.join(test_path, directory)\n",
        "  for picture in os.listdir(each_path):\n",
        "    pic_path=os.path.join(each_path, picture)#수정할 각각의 사진 이름들\n",
        "    new_name=\"test_picture\"+str(i)\n",
        "    i=i+1\n",
        "    new_path=os.path.join(each_path, new_name)\n",
        "\n",
        "    os.rename(pic_path, new_path)\n",
        "    #print(pic_path+\" -> \"+new_path)"
      ],
      "metadata": {
        "id": "OXhbQC5n_XGi"
      },
      "execution_count": null,
      "outputs": []
    },
    {
      "cell_type": "code",
      "source": [],
      "metadata": {
        "id": "FaktTQ9_Peg9"
      },
      "execution_count": null,
      "outputs": []
    }
  ]
}